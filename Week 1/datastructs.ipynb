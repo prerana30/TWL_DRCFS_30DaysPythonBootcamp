{
 "cells": [
  {
   "cell_type": "code",
   "execution_count": 1,
   "metadata": {},
   "outputs": [
    {
     "name": "stdout",
     "output_type": "stream",
     "text": [
      "['Shristi', 'Anushka', 'Ankita']\n"
     ]
    }
   ],
   "source": [
    "# List\n",
    "mentor_names = [\"Shristi\",'Anushka','Ankita']\n",
    "print(mentor_names)\n",
    "            "
   ]
  },
  {
   "cell_type": "code",
   "execution_count": 2,
   "metadata": {},
   "outputs": [
    {
     "name": "stdout",
     "output_type": "stream",
     "text": [
      "['Shristi', 'Anushka', 'Ankita', 'prerana']\n"
     ]
    }
   ],
   "source": [
    "# List is mutable as we can things in this \n",
    "mentor_names.append('prerana')\n",
    "print(mentor_names)"
   ]
  },
  {
   "cell_type": "code",
   "execution_count": null,
   "metadata": {},
   "outputs": [],
   "source": [
    "#List vs Tuple:\n",
    "rainbow_colors = ('red','violet','green','blue','yellow')\n",
    "for color \n",
    "\n",
    "    "
   ]
  },
  {
   "cell_type": "code",
   "execution_count": 1,
   "metadata": {},
   "outputs": [
    {
     "name": "stdout",
     "output_type": "stream",
     "text": [
      "{'duck': 'pond', 'chicken': 'egg', 'random': 'random'}\n"
     ]
    }
   ],
   "source": [
    "# Dictionary\n",
    "user_pass = {'duck': 'pond', 'chicken' : 'egg', 'random' : 'random'}\n",
    "\n",
    "print(user_pass)\n",
    "\n",
    "# Accessing a value from dictionary(none way)\n",
    "print(user_pass.get('abc'))\n",
    "#It returns none if the key is not found.\n",
    "\n",
    "\n",
    "# It throws keyError if thew key is not found.\n",
    "print(user_pass['chicken'])\n",
    "      \n"
   ]
  },
  {
   "cell_type": "code",
   "execution_count": null,
   "metadata": {},
   "outputs": [],
   "source": [
    "# Replacing the value \n",
    "user_pass['duck'] = 'lake'\n",
    "print(user_pass.get('duck'))"
   ]
  },
  {
   "cell_type": "code",
   "execution_count": 3,
   "metadata": {},
   "outputs": [
    {
     "name": "stdout",
     "output_type": "stream",
     "text": [
      "('duck', 'pond')\n",
      "('chicken', 'egg')\n",
      "('random', 'random')\n"
     ]
    }
   ],
   "source": [
    "for user in user_pass.items():\n",
    "    print(user)"
   ]
  },
  {
   "cell_type": "code",
   "execution_count": 2,
   "metadata": {},
   "outputs": [
    {
     "name": "stdout",
     "output_type": "stream",
     "text": [
      "dict_items([('duck', 'pond'), ('chicken', 'egg'), ('random', 'random')])\n"
     ]
    }
   ],
   "source": [
    "print(user_pass.items())"
   ]
  },
  {
   "cell_type": "markdown",
   "metadata": {},
   "source": [
    "String is always immutable"
   ]
  },
  {
   "cell_type": "code",
   "execution_count": null,
   "metadata": {},
   "outputs": [],
   "source": [
    "## Login System\n",
    "\n"
   ]
  },
  {
   "cell_type": "markdown",
   "metadata": {},
   "source": [
    "# Login System\n",
    "\n",
    "1. Try input from user.\n",
    "2.Try to get their password from the dictionary\n",
    "3. If the password is None, user doesn't exist.\n",
    "4. If the password matches with the password given by the user, say you're logged in else say incorrect password."
   ]
  },
  {
   "cell_type": "code",
   "execution_count": null,
   "metadata": {},
   "outputs": [],
   "source": [
    "username = input('what is your username')\n",
    "input_password = input('What is your password')\n",
    "\n",
    "real_password = user_pass.get(username)\n",
    "\n",
    "if real_password is None:\n",
    "    print(\"user doesn't exist\")\n",
    "elif real_password == input_password:\n",
    "    print('You are logged in')\n",
    "else:\n",
    "    print('Incorrect password')\n"
   ]
  },
  {
   "cell_type": "markdown",
   "metadata": {},
   "source": [
    "range is an iterable that yeilds numbers in given range, and list is also an iterable that would yeild next index values.\n",
    "# Interior mutability"
   ]
  }
 ],
 "metadata": {
  "kernelspec": {
   "display_name": "Python 3.10.5 64-bit",
   "language": "python",
   "name": "python3"
  },
  "language_info": {
   "codemirror_mode": {
    "name": "ipython",
    "version": 3
   },
   "file_extension": ".py",
   "mimetype": "text/x-python",
   "name": "python",
   "nbconvert_exporter": "python",
   "pygments_lexer": "ipython3",
   "version": "3.10.5"
  },
  "orig_nbformat": 4,
  "vscode": {
   "interpreter": {
    "hash": "a42ccb73e7d9bfdf27e036f1d2b8b681e55fc0743cc5586bc2474d4a60f4b886"
   }
  }
 },
 "nbformat": 4,
 "nbformat_minor": 2
}
